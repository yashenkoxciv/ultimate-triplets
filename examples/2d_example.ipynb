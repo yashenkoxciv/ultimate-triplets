{
 "cells": [
  {
   "cell_type": "code",
   "execution_count": null,
   "metadata": {},
   "outputs": [],
   "source": [
    "import numpy as np\n",
    "import matplotlib.pyplot as plt\n",
    "from sklearn.datasets import make_blobs"
   ]
  },
  {
   "cell_type": "code",
   "execution_count": null,
   "metadata": {},
   "outputs": [],
   "source": [
    "P = 3\n",
    "K = 5"
   ]
  },
  {
   "cell_type": "code",
   "execution_count": null,
   "metadata": {},
   "outputs": [],
   "source": [
    "xs, ys = make_blobs(n_samples=100, centers=P, n_features=2)"
   ]
  },
  {
   "cell_type": "code",
   "execution_count": null,
   "metadata": {},
   "outputs": [],
   "source": [
    "y_idxs = [np.argwhere(ys == y).reshape(-1) for y in np.unique(ys)]"
   ]
  },
  {
   "cell_type": "code",
   "execution_count": null,
   "metadata": {},
   "outputs": [],
   "source": [
    "def plot_blobs(xs, ys, marker='o', include_legend=True):\n",
    "    for y in np.unique(ys):\n",
    "        y_idxs = np.argwhere(ys == y).reshape(-1)\n",
    "        plt.scatter(xs[y_idxs, 0], xs[y_idxs, 1], label=y, marker=marker)\n",
    "    if include_legend:\n",
    "        plt.legend()"
   ]
  },
  {
   "cell_type": "code",
   "execution_count": null,
   "metadata": {},
   "outputs": [],
   "source": [
    "plot_blobs(xs, ys)\n",
    "plt.title('Data points (embeddings)')\n",
    "plt.show()"
   ]
  },
  {
   "cell_type": "code",
   "execution_count": null,
   "metadata": {},
   "outputs": [],
   "source": [
    "def arranged_idxs_batch(xs, y_idxs, k):\n",
    "    batch_xs = []\n",
    "    batch_ys = []\n",
    "    for y_idx in y_idxs:\n",
    "        batch_idx = np.random.choice(y_idx, k, replace=False)\n",
    "        batch_xs.append(xs[batch_idx])\n",
    "        batch_ys.append(ys[batch_idx])\n",
    "    batch_xs = np.concatenate(batch_xs, 0)\n",
    "    batch_ys = np.concatenate(batch_ys)\n",
    "    return batch_xs, batch_ys"
   ]
  },
  {
   "cell_type": "code",
   "execution_count": null,
   "metadata": {},
   "outputs": [],
   "source": [
    "batch_xs, batch_ys = arranged_idxs_batch(xs, y_idxs, K)"
   ]
  },
  {
   "cell_type": "code",
   "execution_count": null,
   "metadata": {},
   "outputs": [],
   "source": [
    "plot_blobs(xs, ys)\n",
    "plot_blobs(batch_xs, batch_ys, marker='x', include_legend=False)\n",
    "plt.title('Data points (embeddings) and selected batch (x)')\n",
    "plt.show()"
   ]
  },
  {
   "cell_type": "code",
   "execution_count": null,
   "metadata": {},
   "outputs": [],
   "source": [
    "def euclidean_distance(a, b):\n",
    "    ed = np.sqrt(np.sum(np.square(a[:, np.newaxis, :] - b), axis=2))\n",
    "    return ed"
   ]
  },
  {
   "cell_type": "code",
   "execution_count": null,
   "metadata": {},
   "outputs": [],
   "source": [
    "ed = euclidean_distance(batch_xs, batch_xs)"
   ]
  },
  {
   "cell_type": "code",
   "execution_count": null,
   "metadata": {},
   "outputs": [],
   "source": [
    "plt.imshow(ed)\n",
    "plt.title('Distance matrix')\n",
    "plt.show()"
   ]
  },
  {
   "cell_type": "code",
   "execution_count": null,
   "metadata": {},
   "outputs": [],
   "source": [
    "def batch_hard(axs, ays, p, k):\n",
    "    distance_matrix = euclidean_distance(axs, axs)\n",
    "    # matrix side size\n",
    "    ays = ays.reshape(-1, 1)\n",
    "    num = ays.shape[0]\n",
    "    diagonal_idxs = diag_idxs = np.diag_indices(num)\n",
    "    # mask items where labels are equal\n",
    "    y_equals = ays == ays.T\n",
    "    # let's find HARD POSITIVES\n",
    "    y_equals[diagonal_idxs] = False\n",
    "    d2p = distance_matrix.copy()\n",
    "    # we are going to find hard positive - the most distant positive\n",
    "    # therefore set -infinity distance to the same items\n",
    "    d2p[y_equals == False] = -np.inf\n",
    "    p_idxs = np.argmax(d2p, axis=1)\n",
    "    hard_positives = axs[p_idxs]\n",
    "    # let's find HARD NEGATIVES\n",
    "    d2n = distance_matrix.copy()\n",
    "    y_equals[diagonal_idxs] = True\n",
    "    d2n[y_equals == True] = np.inf\n",
    "    n_idxs = np.argmin(d2n, axis=1)\n",
    "    hard_negatives = axs[n_idxs]\n",
    "    return axs, hard_positives, hard_negatives"
   ]
  },
  {
   "cell_type": "code",
   "execution_count": null,
   "metadata": {},
   "outputs": [],
   "source": [
    "# shuffle labels and features\n",
    "#p = np.random.permutation(batch_ys.shape[0])\n",
    "#batch_xs = batch_xs[p]\n",
    "#batch_ys = batch_ys[p]\n",
    "#anchors, hard_positives, hard_negatives = batch_hard(batch_xs, batch_ys, P, K)"
   ]
  },
  {
   "cell_type": "code",
   "execution_count": null,
   "metadata": {},
   "outputs": [],
   "source": [
    "anchors, hard_positives, hard_negatives = batch_hard(batch_xs, batch_ys, P, K)"
   ]
  },
  {
   "cell_type": "code",
   "execution_count": null,
   "metadata": {
    "scrolled": false
   },
   "outputs": [],
   "source": [
    "EXAMPLES_PER_CLASS = 3\n",
    "for y in range(P):\n",
    "    p_idxs = np.argwhere(batch_ys == y).reshape(-1)\n",
    "    p_anchors = anchors[p_idxs]\n",
    "    p_hard_positives = hard_positives[p_idxs]\n",
    "    p_hard_negatives = hard_negatives[p_idxs]\n",
    "    for j in range(EXAMPLES_PER_CLASS):\n",
    "        plot_blobs(xs, ys)\n",
    "        plot_blobs(batch_xs, batch_ys, marker='x', include_legend=False)\n",
    "        plt.scatter(p_anchors[j, 0], p_anchors[j, 1], marker='*', s=200, label='anchor')\n",
    "        plt.scatter(p_hard_positives[j, 0], p_hard_positives[j, 1], marker='P', s=200, label='positive')\n",
    "        plt.scatter(p_hard_negatives[j, 0], p_hard_negatives[j, 1], marker='X', s=200, label='negative')\n",
    "        plt.title(f'Data points and selected triplet for class {y}')\n",
    "        plt.legend()\n",
    "        plt.show()"
   ]
  },
  {
   "cell_type": "markdown",
   "metadata": {},
   "source": [
    "# TODO"
   ]
  },
  {
   "cell_type": "markdown",
   "metadata": {},
   "source": [
    "* choose one of the hard positives/negatives randomly to reduce overfitting (because of identical triplets, see identical_triplets.png)"
   ]
  },
  {
   "cell_type": "code",
   "execution_count": null,
   "metadata": {},
   "outputs": [],
   "source": []
  }
 ],
 "metadata": {
  "kernelspec": {
   "display_name": "Python 3",
   "language": "python",
   "name": "python3"
  },
  "language_info": {
   "codemirror_mode": {
    "name": "ipython",
    "version": 3
   },
   "file_extension": ".py",
   "mimetype": "text/x-python",
   "name": "python",
   "nbconvert_exporter": "python",
   "pygments_lexer": "ipython3",
   "version": "3.9.1"
  }
 },
 "nbformat": 4,
 "nbformat_minor": 4
}
