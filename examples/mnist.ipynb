{
 "cells": [
  {
   "cell_type": "code",
   "execution_count": null,
   "metadata": {},
   "outputs": [],
   "source": [
    "import numpy as np\n",
    "import matplotlib.pyplot as plt"
   ]
  },
  {
   "cell_type": "code",
   "execution_count": null,
   "metadata": {},
   "outputs": [],
   "source": [
    "from sklearn.manifold import TSNE\n",
    "from sklearn import datasets, metrics\n",
    "from sklearn.decomposition import PCA\n",
    "from sklearn.preprocessing import MinMaxScaler\n",
    "from sklearn.neural_network import MLPClassifier\n",
    "from sklearn.model_selection import train_test_split"
   ]
  },
  {
   "cell_type": "markdown",
   "metadata": {},
   "source": [
    "### Load and prepare data"
   ]
  },
  {
   "cell_type": "code",
   "execution_count": null,
   "metadata": {},
   "outputs": [],
   "source": [
    "x, y = datasets.fetch_openml('mnist_784', version=1, return_X_y=True, as_frame=False)\n",
    "y = y.astype(np.int)"
   ]
  },
  {
   "cell_type": "code",
   "execution_count": null,
   "metadata": {},
   "outputs": [],
   "source": [
    "x_train, x_test, y_train, y_test = train_test_split(x, y, test_size=10000)"
   ]
  },
  {
   "cell_type": "code",
   "execution_count": null,
   "metadata": {},
   "outputs": [],
   "source": [
    "scaler = MinMaxScaler().fit(x_train)"
   ]
  },
  {
   "cell_type": "code",
   "execution_count": null,
   "metadata": {},
   "outputs": [],
   "source": [
    "x_train = scaler.transform(x_train)\n",
    "x_test = scaler.transform(x_test)"
   ]
  },
  {
   "cell_type": "markdown",
   "metadata": {},
   "source": [
    "### Embed data"
   ]
  },
  {
   "cell_type": "code",
   "execution_count": null,
   "metadata": {},
   "outputs": [],
   "source": [
    "USE_MLP = False\n",
    "USE_TSNE_OR_PCA = 'PCA'"
   ]
  },
  {
   "cell_type": "code",
   "execution_count": null,
   "metadata": {},
   "outputs": [],
   "source": [
    "if USE_MLP:\n",
    "    mlp = MLPClassifier(hidden_layer_sizes=(200,), random_state=1, max_iter=300).fit(x_train, y_train)\n",
    "    print('MLP train accuracy {0:3.1f} %'.format(mlp.score(x_train, y_train)*100))\n",
    "    print('MLP test accuracy {0:3.1f} %'.format(mlp.score(x_test, y_test)*100))\n",
    "    def sklearn_mlpclassifier_tranform(self, xs):\n",
    "        return np.dot(xs, self.coefs_[0])\n",
    "    setattr(MLPClassifier, 'transform', sklearn_mlpclassifier_tranform)\n",
    "    h_train = mlp.transform(x_train)\n",
    "    h_test = mlp.transform(x_test)"
   ]
  },
  {
   "cell_type": "code",
   "execution_count": null,
   "metadata": {},
   "outputs": [],
   "source": [
    "if USE_TSNE_OR_PCA == 'TSNE':\n",
    "    if USE_MLP:\n",
    "        tsne_train = h_train\n",
    "        tsne_test = h_test\n",
    "    else:\n",
    "        tsne_train = x_train\n",
    "        tsne_test = x_test\n",
    "    tsne = TSNE(n_components=2, n_iter=300, verbose=3).fit(tsne_train)\n",
    "    z_train = tsne.transform(tsne_train)\n",
    "    z_test = tsne.transform(tsne_test)\n",
    "else:\n",
    "    if USE_MLP:\n",
    "        pca_train = h_train\n",
    "        pca_test = h_test\n",
    "    else:\n",
    "        pca_train = x_train\n",
    "        pca_test = x_test\n",
    "    pca = PCA(n_components=2).fit(pca_train)\n",
    "    z_train = pca.transform(pca_train)\n",
    "    z_test = pca.transform(pca_test)"
   ]
  },
  {
   "cell_type": "code",
   "execution_count": null,
   "metadata": {},
   "outputs": [],
   "source": [
    "def plot_mnist(zs, ys):\n",
    "    for i in range(10):\n",
    "        idxs = np.argwhere(ys == i)\n",
    "        plt.scatter(zs[idxs, 0], zs[idxs, 1], label=i)\n",
    "    plt.legend()\n",
    "    plt.show()"
   ]
  },
  {
   "cell_type": "code",
   "execution_count": null,
   "metadata": {},
   "outputs": [],
   "source": [
    "plot_mnist(z_test, y_test)"
   ]
  },
  {
   "cell_type": "code",
   "execution_count": null,
   "metadata": {},
   "outputs": [],
   "source": [
    "pca = PCA(n_components=100).fit(x_train)\n",
    "f_train = pca.transform(x_train)\n",
    "f_test = pca.transform(x_test)"
   ]
  },
  {
   "cell_type": "code",
   "execution_count": null,
   "metadata": {},
   "outputs": [],
   "source": [
    "def euclidean_distance(a, b):\n",
    "    ed = np.sqrt(np.sum(np.square(a[:, np.newaxis, :] - b), axis=2))\n",
    "    return ed\n",
    "\n",
    "\n",
    "def np_euclidean_distance(a, b):\n",
    "    ed = np.linalg.norm(a[:, np.newaxis] - b, axis = 2)\n",
    "    return ed\n",
    "\n",
    "\n",
    "#def find_nearest_inter(xs, ys, a_idx):\n",
    "    #a_y = ys[a_idx]\n",
    "    #a_x = xs[a_idx].reshape(1, -1)\n",
    "    #y_idxs = np.argwhere(ys == a_y).reshape(-1)\n",
    "    #inter_xs = xs[y_idxs]\n",
    "    #ed = euclidean_distance(xs, a_x)\n",
    "    #ed[a_idx] = np.inf\n",
    "    #print(xs.shape, ys.shape, a_y, a_x.shape, ed.shape, inter_xs.shape, y_idxs)\n",
    "    #np.argmin(ed)"
   ]
  },
  {
   "cell_type": "code",
   "execution_count": null,
   "metadata": {},
   "outputs": [],
   "source": [
    "def batch_each_n(xs, ys, n):\n",
    "    batch_x = []\n",
    "    batch_y = []\n",
    "    for i in range(10):\n",
    "        all_y_idxs = np.argwhere(ys == i).reshape(-1)\n",
    "        y_idxs = np.random.choice(all_y_idxs, n, replace=False)\n",
    "        batch_x.append(xs[y_idxs])\n",
    "        batch_y.append(ys[y_idxs])\n",
    "    return np.concatenate(batch_x, 0), np.concatenate(batch_y)"
   ]
  },
  {
   "cell_type": "code",
   "execution_count": null,
   "metadata": {},
   "outputs": [],
   "source": [
    "b = f_test[:100]"
   ]
  },
  {
   "cell_type": "code",
   "execution_count": null,
   "metadata": {},
   "outputs": [],
   "source": [
    "%timeit euclidean_distance(f_test, b)"
   ]
  },
  {
   "cell_type": "code",
   "execution_count": null,
   "metadata": {},
   "outputs": [],
   "source": [
    "%timeit np_euclidean_distance(f_test, b)"
   ]
  },
  {
   "cell_type": "code",
   "execution_count": null,
   "metadata": {},
   "outputs": [],
   "source": [
    "def batch_each_n(xs, ys, p, k):\n",
    "    batch_x = []\n",
    "    batch_y = []\n",
    "    for i in range(p):\n",
    "        all_y_idxs = np.argwhere(ys == i).reshape(-1)\n",
    "        y_idxs = np.random.choice(all_y_idxs, k, replace=False)\n",
    "        batch_x.append(xs[y_idxs])\n",
    "        batch_y.append(ys[y_idxs])\n",
    "    return np.concatenate(batch_x, 0), np.concatenate(batch_y)"
   ]
  },
  {
   "cell_type": "code",
   "execution_count": null,
   "metadata": {},
   "outputs": [],
   "source": [
    "batch_x, batch_y = batch_each_n(f_test, y_test, 10, 5)"
   ]
  },
  {
   "cell_type": "code",
   "execution_count": null,
   "metadata": {},
   "outputs": [],
   "source": [
    "ed = np_euclidean_distance(batch_x, batch_x)"
   ]
  },
  {
   "cell_type": "code",
   "execution_count": null,
   "metadata": {},
   "outputs": [],
   "source": [
    "plt.imshow(ed)"
   ]
  },
  {
   "cell_type": "code",
   "execution_count": null,
   "metadata": {},
   "outputs": [],
   "source": [
    "ed4 = ed.reshape((10, 5, 10, 5))"
   ]
  },
  {
   "cell_type": "code",
   "execution_count": null,
   "metadata": {},
   "outputs": [],
   "source": [
    "ed4.shape"
   ]
  },
  {
   "cell_type": "code",
   "execution_count": null,
   "metadata": {},
   "outputs": [],
   "source": [
    "P, K = 3, 3"
   ]
  }
 ],
 "metadata": {
  "kernelspec": {
   "display_name": "Python 3",
   "language": "python",
   "name": "python3"
  },
  "language_info": {
   "codemirror_mode": {
    "name": "ipython",
    "version": 3
   },
   "file_extension": ".py",
   "mimetype": "text/x-python",
   "name": "python",
   "nbconvert_exporter": "python",
   "pygments_lexer": "ipython3",
   "version": "3.9.1"
  }
 },
 "nbformat": 4,
 "nbformat_minor": 4
}
